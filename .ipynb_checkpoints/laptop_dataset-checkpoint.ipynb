{
 "cells": [
  {
   "cell_type": "markdown",
   "id": "4fa6d441",
   "metadata": {},
   "source": [
    "### Laptops e suas especificações\n",
    "O conjunto de dados do dataset possui especificação de laptop é uma coleção de dados sobre laptops.\n",
    "Ele contém informações sobre o fabricante, modelo, tipo, tamanho e resolução da tela do laptop, CPU, RAM, disco rígido,\n",
    "memória, SSD, GPU, sistema operacional, peso e preço. \n",
    "O conjunto de dados foi criado extraindo dados da Web e contém 984 entradas exclusivas.\n",
    "O Dataset foi obtido no kagle: https://www.kaggle.com/datasets/durgeshrao9993/laptop-specification-dataset"
   ]
  },
  {
   "cell_type": "code",
   "execution_count": 1,
   "id": "07cb0845",
   "metadata": {},
   "outputs": [],
   "source": [
    "import pandas as pd\n",
    "import numpy as np\n",
    "import matplotlib.pyplot as plt\n",
    "import seaborn as sns"
   ]
  },
  {
   "cell_type": "code",
   "execution_count": 2,
   "id": "743728f5",
   "metadata": {},
   "outputs": [],
   "source": [
    "df = pd.read_csv('laptop_price.csv', encoding='latin1')"
   ]
  },
  {
   "cell_type": "code",
   "execution_count": 3,
   "id": "a60ee35f",
   "metadata": {},
   "outputs": [
    {
     "data": {
      "text/html": [
       "<div>\n",
       "<style scoped>\n",
       "    .dataframe tbody tr th:only-of-type {\n",
       "        vertical-align: middle;\n",
       "    }\n",
       "\n",
       "    .dataframe tbody tr th {\n",
       "        vertical-align: top;\n",
       "    }\n",
       "\n",
       "    .dataframe thead th {\n",
       "        text-align: right;\n",
       "    }\n",
       "</style>\n",
       "<table border=\"1\" class=\"dataframe\">\n",
       "  <thead>\n",
       "    <tr style=\"text-align: right;\">\n",
       "      <th></th>\n",
       "      <th>laptop_ID</th>\n",
       "      <th>Company</th>\n",
       "      <th>Product</th>\n",
       "      <th>TypeName</th>\n",
       "      <th>Inches</th>\n",
       "      <th>ScreenResolution</th>\n",
       "      <th>Cpu</th>\n",
       "      <th>Ram</th>\n",
       "      <th>Memory</th>\n",
       "      <th>Gpu</th>\n",
       "      <th>OpSys</th>\n",
       "      <th>Weight</th>\n",
       "      <th>Price_in_euros</th>\n",
       "    </tr>\n",
       "  </thead>\n",
       "  <tbody>\n",
       "    <tr>\n",
       "      <th>0</th>\n",
       "      <td>1</td>\n",
       "      <td>Apple</td>\n",
       "      <td>MacBook Pro</td>\n",
       "      <td>Ultrabook</td>\n",
       "      <td>13.3</td>\n",
       "      <td>IPS Panel Retina Display 2560x1600</td>\n",
       "      <td>Intel Core i5 2.3GHz</td>\n",
       "      <td>8GB</td>\n",
       "      <td>128GB SSD</td>\n",
       "      <td>Intel Iris Plus Graphics 640</td>\n",
       "      <td>macOS</td>\n",
       "      <td>1.37kg</td>\n",
       "      <td>1339.69</td>\n",
       "    </tr>\n",
       "    <tr>\n",
       "      <th>1</th>\n",
       "      <td>2</td>\n",
       "      <td>Apple</td>\n",
       "      <td>Macbook Air</td>\n",
       "      <td>Ultrabook</td>\n",
       "      <td>13.3</td>\n",
       "      <td>1440x900</td>\n",
       "      <td>Intel Core i5 1.8GHz</td>\n",
       "      <td>8GB</td>\n",
       "      <td>128GB Flash Storage</td>\n",
       "      <td>Intel HD Graphics 6000</td>\n",
       "      <td>macOS</td>\n",
       "      <td>1.34kg</td>\n",
       "      <td>898.94</td>\n",
       "    </tr>\n",
       "    <tr>\n",
       "      <th>2</th>\n",
       "      <td>3</td>\n",
       "      <td>HP</td>\n",
       "      <td>250 G6</td>\n",
       "      <td>Notebook</td>\n",
       "      <td>15.6</td>\n",
       "      <td>Full HD 1920x1080</td>\n",
       "      <td>Intel Core i5 7200U 2.5GHz</td>\n",
       "      <td>8GB</td>\n",
       "      <td>256GB SSD</td>\n",
       "      <td>Intel HD Graphics 620</td>\n",
       "      <td>No OS</td>\n",
       "      <td>1.86kg</td>\n",
       "      <td>575.00</td>\n",
       "    </tr>\n",
       "    <tr>\n",
       "      <th>3</th>\n",
       "      <td>4</td>\n",
       "      <td>Apple</td>\n",
       "      <td>MacBook Pro</td>\n",
       "      <td>Ultrabook</td>\n",
       "      <td>15.4</td>\n",
       "      <td>IPS Panel Retina Display 2880x1800</td>\n",
       "      <td>Intel Core i7 2.7GHz</td>\n",
       "      <td>16GB</td>\n",
       "      <td>512GB SSD</td>\n",
       "      <td>AMD Radeon Pro 455</td>\n",
       "      <td>macOS</td>\n",
       "      <td>1.83kg</td>\n",
       "      <td>2537.45</td>\n",
       "    </tr>\n",
       "    <tr>\n",
       "      <th>4</th>\n",
       "      <td>5</td>\n",
       "      <td>Apple</td>\n",
       "      <td>MacBook Pro</td>\n",
       "      <td>Ultrabook</td>\n",
       "      <td>13.3</td>\n",
       "      <td>IPS Panel Retina Display 2560x1600</td>\n",
       "      <td>Intel Core i5 3.1GHz</td>\n",
       "      <td>8GB</td>\n",
       "      <td>256GB SSD</td>\n",
       "      <td>Intel Iris Plus Graphics 650</td>\n",
       "      <td>macOS</td>\n",
       "      <td>1.37kg</td>\n",
       "      <td>1803.60</td>\n",
       "    </tr>\n",
       "  </tbody>\n",
       "</table>\n",
       "</div>"
      ],
      "text/plain": [
       "   laptop_ID Company      Product   TypeName  Inches  \\\n",
       "0          1   Apple  MacBook Pro  Ultrabook    13.3   \n",
       "1          2   Apple  Macbook Air  Ultrabook    13.3   \n",
       "2          3      HP       250 G6   Notebook    15.6   \n",
       "3          4   Apple  MacBook Pro  Ultrabook    15.4   \n",
       "4          5   Apple  MacBook Pro  Ultrabook    13.3   \n",
       "\n",
       "                     ScreenResolution                         Cpu   Ram  \\\n",
       "0  IPS Panel Retina Display 2560x1600        Intel Core i5 2.3GHz   8GB   \n",
       "1                            1440x900        Intel Core i5 1.8GHz   8GB   \n",
       "2                   Full HD 1920x1080  Intel Core i5 7200U 2.5GHz   8GB   \n",
       "3  IPS Panel Retina Display 2880x1800        Intel Core i7 2.7GHz  16GB   \n",
       "4  IPS Panel Retina Display 2560x1600        Intel Core i5 3.1GHz   8GB   \n",
       "\n",
       "                Memory                           Gpu  OpSys  Weight  \\\n",
       "0            128GB SSD  Intel Iris Plus Graphics 640  macOS  1.37kg   \n",
       "1  128GB Flash Storage        Intel HD Graphics 6000  macOS  1.34kg   \n",
       "2            256GB SSD         Intel HD Graphics 620  No OS  1.86kg   \n",
       "3            512GB SSD            AMD Radeon Pro 455  macOS  1.83kg   \n",
       "4            256GB SSD  Intel Iris Plus Graphics 650  macOS  1.37kg   \n",
       "\n",
       "   Price_in_euros  \n",
       "0         1339.69  \n",
       "1          898.94  \n",
       "2          575.00  \n",
       "3         2537.45  \n",
       "4         1803.60  "
      ]
     },
     "execution_count": 3,
     "metadata": {},
     "output_type": "execute_result"
    }
   ],
   "source": [
    "df.head()"
   ]
  },
  {
   "cell_type": "code",
   "execution_count": 4,
   "id": "03a412a4",
   "metadata": {},
   "outputs": [
    {
     "name": "stdout",
     "output_type": "stream",
     "text": [
      "<class 'pandas.core.frame.DataFrame'>\n",
      "RangeIndex: 1303 entries, 0 to 1302\n",
      "Data columns (total 13 columns):\n",
      " #   Column            Non-Null Count  Dtype  \n",
      "---  ------            --------------  -----  \n",
      " 0   laptop_ID         1303 non-null   int64  \n",
      " 1   Company           1303 non-null   object \n",
      " 2   Product           1303 non-null   object \n",
      " 3   TypeName          1303 non-null   object \n",
      " 4   Inches            1303 non-null   float64\n",
      " 5   ScreenResolution  1303 non-null   object \n",
      " 6   Cpu               1303 non-null   object \n",
      " 7   Ram               1303 non-null   object \n",
      " 8   Memory            1303 non-null   object \n",
      " 9   Gpu               1303 non-null   object \n",
      " 10  OpSys             1303 non-null   object \n",
      " 11  Weight            1303 non-null   object \n",
      " 12  Price_in_euros    1303 non-null   float64\n",
      "dtypes: float64(2), int64(1), object(10)\n",
      "memory usage: 132.5+ KB\n"
     ]
    }
   ],
   "source": [
    "df.info()"
   ]
  },
  {
   "cell_type": "markdown",
   "id": "dd587ea6",
   "metadata": {},
   "source": [
    "Média do tamanho das telas"
   ]
  },
  {
   "cell_type": "code",
   "execution_count": 5,
   "id": "34aa1b9c",
   "metadata": {},
   "outputs": [
    {
     "data": {
      "text/plain": [
       "15.017191097467379"
      ]
     },
     "execution_count": 5,
     "metadata": {},
     "output_type": "execute_result"
    }
   ],
   "source": [
    "df['Inches'].mean()"
   ]
  },
  {
   "cell_type": "markdown",
   "id": "37e4bebd",
   "metadata": {},
   "source": [
    "Maior valor de laptop"
   ]
  },
  {
   "cell_type": "code",
   "execution_count": 6,
   "id": "eb453c39",
   "metadata": {},
   "outputs": [
    {
     "data": {
      "text/plain": [
       "6099.0"
      ]
     },
     "execution_count": 6,
     "metadata": {},
     "output_type": "execute_result"
    }
   ],
   "source": [
    "df['Price_in_euros'].max()"
   ]
  },
  {
   "cell_type": "markdown",
   "id": "b33a6fd3",
   "metadata": {},
   "source": [
    "Menor valor de laptop"
   ]
  },
  {
   "cell_type": "code",
   "execution_count": 7,
   "id": "e2034870",
   "metadata": {},
   "outputs": [
    {
     "data": {
      "text/plain": [
       "174.0"
      ]
     },
     "execution_count": 7,
     "metadata": {},
     "output_type": "execute_result"
    }
   ],
   "source": [
    "df['Price_in_euros'].min()"
   ]
  },
  {
   "cell_type": "markdown",
   "id": "52711f89",
   "metadata": {},
   "source": [
    "Média de preço dos laptops"
   ]
  },
  {
   "cell_type": "code",
   "execution_count": 8,
   "id": "6f0e8624",
   "metadata": {},
   "outputs": [
    {
     "data": {
      "text/plain": [
       "1123.6869915579432"
      ]
     },
     "execution_count": 8,
     "metadata": {},
     "output_type": "execute_result"
    }
   ],
   "source": [
    "df['Price_in_euros'].mean()"
   ]
  },
  {
   "cell_type": "markdown",
   "id": "16ea6333",
   "metadata": {},
   "source": [
    "Gerando gráfico de barras com a relação entre marca e o preço"
   ]
  },
  {
   "cell_type": "code",
   "execution_count": 9,
   "id": "9a62f0ed",
   "metadata": {},
   "outputs": [
    {
     "data": {
      "image/png": "[encoded data removed]",
      "text/plain": [
       "<Figure size 2000x1000 with 1 Axes>"
      ]
     },
     "metadata": {},
     "output_type": "display_data"
    }
   ],
   "source": [
    "x = df['Company']\n",
    "y = df['Price_in_euros']\n",
    "\n",
    "\n",
    "plt.bar(x, y)\n",
    "fig = plt.gcf()\n",
    "fig.set_size_inches(20, 10)\n",
    "plt.xlabel('Marca')\n",
    "plt.ylabel('Preço em euros')\n",
    "plt.title('Relação entre marca e preço')\n",
    "plt.show()\n",
    "\n"
   ]
  },
  {
   "cell_type": "markdown",
   "id": "5bec7fd9",
   "metadata": {},
   "source": [
    "Gráfico de pontos com relação entre preço e marca"
   ]
  },
  {
   "cell_type": "code",
   "execution_count": null,
   "id": "02ac0f9b",
   "metadata": {},
   "outputs": [],
   "source": [
    "x = df['Price_in_euros']\n",
    "y = df['Company']\n",
    "\n",
    "plt.scatter(x, y)\n",
    "plt.xlabel('Preço em euros')\n",
    "plt.ylabel('Marca')\n",
    "plt.title('Relação entre preço e marca')\n",
    "plt.show()\n"
   ]
  },
  {
   "cell_type": "markdown",
   "id": "3885469e",
   "metadata": {},
   "source": [
    "Gráfico de barras agrupado com a Quantidade de Laptops por Marca e Sistema Operacional"
   ]
  },
  {
   "cell_type": "code",
   "execution_count": null,
   "id": "e3f4e3e1",
   "metadata": {},
   "outputs": [],
   "source": [
    "# Crie uma tabela dinâmica com 'Company' como índice, 'OpSys' como colunas e 'count' como valores.\n",
    "# Preencha os valores NaN (que ocorrem quando uma marca não tem um determinado sistema operacional) com zero.\n",
    "data_pivot = data.pivot_table(index='Company', columns='OpSys', values='count', fill_value=0)\n",
    "\n",
    "# Transforme a tabela dinâmica em um DataFrame \"longo\" para trabalhar com o Seaborn\n",
    "data_melted = data_pivot.reset_index().melt(id_vars='Company', value_name='count')\n",
    "\n",
    "plt.figure(figsize=(20, 10))\n",
    "sns.barplot(x='Company', y='count', hue='OpSys', data=data_melted)\n",
    "\n",
    "plt.title('Quantidade de Laptops por Marca e Sistema Operacional')\n",
    "plt.xlabel('Marca')\n",
    "plt.ylabel('Quantidade')\n",
    "plt.legend(title='Sistema Operacional')\n",
    "\n"
   ]
  },
  {
   "cell_type": "markdown",
   "id": "1c9781ed",
   "metadata": {},
   "source": [
    "Gráfico de linhas com relação entre os preços medios dos laptops por tamanho de tela"
   ]
  },
  {
   "cell_type": "code",
   "execution_count": null,
   "id": "4c35ee46",
   "metadata": {},
   "outputs": [],
   "source": [
    "grouped_data = df.groupby('Inches')['Price_in_euros'].mean()\n",
    "\n",
    "plt.figure(figsize=(10, 6))\n",
    "plt.plot(grouped_data.index, grouped_data.values, marker='o')\n",
    "plt.xlabel('Tamanho da Tela (polegadas)')\n",
    "plt.ylabel('Preço Médio (euros)')\n",
    "plt.title('Preço Médio dos Laptops por Tamanho de Tela')\n",
    "plt.grid()\n",
    "plt.show()"
   ]
  },
  {
   "cell_type": "code",
   "execution_count": null,
   "id": "dd6e2e9d",
   "metadata": {},
   "outputs": [],
   "source": [
    "grouped_df = df.groupby(['Cpu', 'Gpu', 'Ram']).size().reset_index(name='Count')\n",
    "\n",
    "\n",
    "# Adicionando uma nova coluna 'Specifications' que combina 'Cpu', 'Gpu' e 'Ram'\n",
    "grouped_df['Specifications'] = grouped_df['Cpu'] + ' ' + grouped_df['Gpu'] + ' ' + grouped_df['Ram'].astype(str)\n",
    "\n",
    "sorted_df = grouped_df.sort_values(by='Count', ascending=False)\n",
    "\n",
    "# Selecionar as 5 primeiras linhas (as 5 especificações mais comuns)\n",
    "top_5_specifications = sorted_df.head(5)\n",
    "\n",
    "plt.figure(figsize=(10,5))\n",
    "plt.bar(top_5_specifications['Specifications'], top_5_specifications['Count'])\n",
    "plt.xlabel('Especificações')\n",
    "plt.ylabel('Contagem')\n",
    "plt.title('As 5 Especificações Mais Comuns')\n",
    "plt.xticks(rotation=45, fontsize=10)\n",
    "plt.tick_params(axis='x', pad=10)\n",
    "plt.figure(figsize=(20, 10))\n",
    "plt.show()"
   ]
  }
 ],
 "metadata": {
  "kernelspec": {
   "display_name": "Python 3 (ipykernel)",
   "language": "python",
   "name": "python3"
  },
  "language_info": {
   "codemirror_mode": {
    "name": "ipython",
    "version": 3
   },
   "file_extension": ".py",
   "mimetype": "text/x-python",
   "name": "python",
   "nbconvert_exporter": "python",
   "pygments_lexer": "ipython3",
   "version": "3.10.6"
  }
 },
 "nbformat": 4,
 "nbformat_minor": 5
}
